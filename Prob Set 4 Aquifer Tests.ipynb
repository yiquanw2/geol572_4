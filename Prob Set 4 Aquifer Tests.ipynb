{
  "nbformat": 4,
  "nbformat_minor": 0,
  "metadata": {
    "kernelspec": {
      "display_name": "Python 3",
      "language": "python",
      "name": "python3"
    },
    "language_info": {
      "codemirror_mode": {
        "name": "ipython",
        "version": 3
      },
      "file_extension": ".py",
      "mimetype": "text/x-python",
      "name": "python",
      "nbconvert_exporter": "python",
      "pygments_lexer": "ipython3",
      "version": "3.7.4"
    },
    "colab": {
      "name": "Prob Set 4 Aquifer Tests.ipynb",
      "provenance": []
    }
  },
  "cells": [
    {
      "cell_type": "markdown",
      "metadata": {
        "id": "Fgmngv10fMHg",
        "colab_type": "text"
      },
      "source": [
        "# <center><font color = blue>Problem Set 4: Okawville Aquifer Test</font></center>\n",
        "\n",
        "<ul>\n",
        "    <li>Assignment Due February 27th</li>\n",
        "</ul>\n",
        "\n",
        "\n"
      ]
    },
    {
      "cell_type": "markdown",
      "metadata": {
        "id": "82yTnp3rfMHh",
        "colab_type": "text"
      },
      "source": [
        "In class, we conducted an aquifer test for the Village of Okawville. In this assignment, you will repeat this analysis, but instead of using Jacob Straight Line, you will fit the data from the aquifer test directly to the Theis Solution. \n",
        "\n",
        "<ul>\n",
        "    <li>All values reported should be rounded to three significant figures. There are ways to automate code to do this for you, but you may use the round() function with arguments hard-coded specifically for the output you are displaying.</li>\n",
        "    <li>All plots should include an appropriate title and labels on the x- and y- axes.</li>\n",
        "    <li>Observed data (what you import from Excel) should be plotted as points; best fit lines should be plotted as continuous lines.</li>\n",
        "</ul>\n",
        "\n",
        "## Part I: Write a code to plot the entire data set\n",
        "\n",
        "Both the x- and y-axis should be plotted on a linear scale (time on the x-axis, drawdown on the y-axis)."
      ]
    },
    {
      "cell_type": "code",
      "metadata": {
        "id": "fP9QruLD1Lsq",
        "colab_type": "code",
        "colab": {}
      },
      "source": [
        "import pandas as pd\n",
        "import matplotlib.pyplot as plt\n",
        "import numpy as np\n",
        "import scipy.optimize as spo\n",
        "import scipy.special as sps\n",
        "%matplotlib inline"
      ],
      "execution_count": 0,
      "outputs": []
    },
    {
      "cell_type": "code",
      "metadata": {
        "id": "z9aCbI5y1MWo",
        "colab_type": "code",
        "colab": {
          "base_uri": "https://localhost:8080/",
          "height": 296
        },
        "outputId": "0a5f795c-f738-48ba-e43f-9e3bfb2e3c1c"
      },
      "source": [
        "df_dd = pd.read_excel('https://github.com/yiquanw2/geol572_4/blob/master/Okawville_MW_AquiferTest.xlsx?raw=true', index_col=0)\n",
        "# print(df_dd)\n",
        "df_dd.dtw.plot(style='o')\n",
        "plt.xlabel('Time (mins)')\n",
        "plt.ylabel('Drawdown (ft)')\n",
        "plt.ylim(0,0.7)\n",
        "plt.title('Okawville',fontsize=14)\n",
        "plt.show()"
      ],
      "execution_count": 57,
      "outputs": [
        {
          "output_type": "display_data",
          "data": {
            "image/png": "[encoded data removed]",
            "text/plain": [
              "<Figure size 432x288 with 1 Axes>"
            ]
          },
          "metadata": {
            "tags": []
          }
        }
      ]
    },
    {
      "cell_type": "markdown",
      "metadata": {
        "id": "DXShxlt2fMHi",
        "colab_type": "text"
      },
      "source": [
        "## Part II: Theis Curve Fitting\n",
        "\n",
        "The Jacob Straight Line method is based on an approximation of the Theis solution. However, there is another option available when using Python, fitting the Theis solution directly to the data, with S and T as the unknown parameters. \n",
        "\n",
        "<b>Include:</b>\n",
        "<ul>\n",
        "    <li>A Markdown Cell with the Theis Equation written in LaTeX.</li>\n",
        "    <li>A plot with the time axis on a logarithmic scale.</li>\n",
        "    <li>Values for S and T, including appropriate units.</li>\n",
        "</ul>\n",
        "    \n",
        "<b>Tips:</b>    \n",
        "<ul>\n",
        "    <li>To get this code to work, you will need to use very small convergence criteria. Don't hesitate to work in the 10^-6-10^-12 range.</li>\n",
        "    <li>When fitting to the Theis Curve, you may use a subset of data. See the class lecture notes for inspiration on how to do this.</li>\n",
        "    <li>The answer should be similar to the Jacob Straight Line solution from class (although not exactly the same).</li>\n",
        "</ul>"
      ]
    },
    {
      "cell_type": "markdown",
      "metadata": {
        "id": "jzfne0U2fMHj",
        "colab_type": "text"
      },
      "source": [
        "## Part III: Contamination Analysis\n",
        "\n",
        "The village would like to know how long it would take for the contamination to reach a well at the new site pumping at a rate Q of 40.1 $ft^3/min$ (300 gpm). Assuming the initial pre-pumping water table configuration is a flat level surface, the groundwater flow gradient from the brine contamination zone towards the well will be a function of the drawdown created by the well. Calculate the drawdown at 1 ft intervals from the well to the edge of the brine zone (starting at r = 1' and ending at r = 5200').  Approximate the travel time by calculating the linear groundwater velocity (v) for each of the segments. Porosity is 20%.\n",
        "\n",
        "To calculate the drawdown ($s$ or $\\Delta(h_0-h)$) at the given radial distances from the well, use the Theis solution. For time (t) use 180 days (259200 mins), which is the typical length of the groundwater discharge season in Illinois. For this problem, ignore the effects of the different boundary conditions.\n",
        "\n",
        "<b>Include:</b>\n",
        "<ul>\n",
        "    <li>The travel time to 3 significant figures.</li>\n",
        "    <li>A plot with the primary axis showing drawdown and the secondary axis showing velocity.</li>\n",
        "</ul>\n",
        "\n",
        "Click on the following links to find two useful images that you <b>may</b> need for this analysis:\n",
        "\n",
        "[Well log for supply well 4](https://share.cocalc.com/share/84a5dae3-8e5c-4c85-bbd4-1d36447235d6/assignments/Prob%20Set%203/Okawville%20Well%20Log.png?viewer=share)\n",
        "\n",
        "[High-resolution map of this area showing the contamination plumes](https://cocalc.com/share/84a5dae3-8e5c-4c85-bbd4-1d36447235d6/assignments/Prob%20Set%203/BrineContaminationMap.png?viewer=share)\n",
        "\n",
        "<b>Answer from hand analysis:</b> travel time was ~35 years. Your response should be somewhere between 30-40 years."
      ]
    },
    {
      "cell_type": "markdown",
      "metadata": {
        "id": "8QrIQz1dfMHk",
        "colab_type": "text"
      },
      "source": [
        "## Part IV: Conclusions\n",
        "\n",
        "Would you recommend constructing a production well at the new site if the financing for the wells and the pipelines require a 40 year life cycle? Use the above analyses to justify your response. Be sure to comment on any uncertainty in your analysis. Limit this discussion to 1 paragraph."
      ]
    },
    {
      "cell_type": "code",
      "metadata": {
        "id": "i35BHRgQfMHl",
        "colab_type": "code",
        "colab": {}
      },
      "source": [
        ""
      ],
      "execution_count": 0,
      "outputs": []
    }
  ]
}