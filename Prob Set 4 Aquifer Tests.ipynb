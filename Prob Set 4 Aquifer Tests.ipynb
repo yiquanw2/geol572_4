{
  "nbformat": 4,
  "nbformat_minor": 0,
  "metadata": {
    "kernelspec": {
      "display_name": "Python 3",
      "language": "python",
      "name": "python3"
    },
    "language_info": {
      "codemirror_mode": {
        "name": "ipython",
        "version": 3
      },
      "file_extension": ".py",
      "mimetype": "text/x-python",
      "name": "python",
      "nbconvert_exporter": "python",
      "pygments_lexer": "ipython3",
      "version": "3.7.4"
    },
    "colab": {
      "name": "Prob Set 4 Aquifer Tests.ipynb",
      "provenance": []
    }
  },
  "cells": [
    {
      "cell_type": "markdown",
      "metadata": {
        "id": "Fgmngv10fMHg",
        "colab_type": "text"
      },
      "source": [
        "# <center><font color = blue>Problem Set 4: Okawville Aquifer Test</font></center>\n",
        "\n",
        "<ul>\n",
        "    <li>Assignment Due February 27th</li>\n",
        "</ul>\n",
        "\n",
        "\n"
      ]
    },
    {
      "cell_type": "markdown",
      "metadata": {
        "id": "82yTnp3rfMHh",
        "colab_type": "text"
      },
      "source": [
        "In class, we conducted an aquifer test for the Village of Okawville. In this assignment, you will repeat this analysis, but instead of using Jacob Straight Line, you will fit the data from the aquifer test directly to the Theis Solution. \n",
        "\n",
        "<ul>\n",
        "    <li>All values reported should be rounded to three significant figures. There are ways to automate code to do this for you, but you may use the round() function with arguments hard-coded specifically for the output you are displaying.</li>\n",
        "    <li>All plots should include an appropriate title and labels on the x- and y- axes.</li>\n",
        "    <li>Observed data (what you import from Excel) should be plotted as points; best fit lines should be plotted as continuous lines.</li>\n",
        "</ul>\n",
        "\n",
        "## Part I: Write a code to plot the entire data set\n",
        "\n",
        "Both the x- and y-axis should be plotted on a linear scale (time on the x-axis, drawdown on the y-axis)."
      ]
    },
    {
      "cell_type": "code",
      "metadata": {
        "id": "fP9QruLD1Lsq",
        "colab_type": "code",
        "colab": {}
      },
      "source": [
        "import pandas as pd\n",
        "import matplotlib.pyplot as plt\n",
        "import numpy as np\n",
        "import scipy.optimize as spo\n",
        "import scipy.special as sps\n",
        "%matplotlib inline"
      ],
      "execution_count": 0,
      "outputs": []
    },
    {
      "cell_type": "code",
      "metadata": {
        "id": "z9aCbI5y1MWo",
        "colab_type": "code",
        "outputId": "b8f5626c-fd93-4954-d731-bb99c8876f80",
        "colab": {
          "base_uri": "https://localhost:8080/",
          "height": 716
        }
      },
      "source": [
        "df_dd = pd.read_excel('https://github.com/yiquanw2/geol572_4/blob/master/Okawville_MW_AquiferTest.xlsx?raw=true', index_col=0)\n",
        "print(df_dd)\n",
        "df_dd.dtw.plot(style='o')\n",
        "plt.xlabel('Time (mins)')\n",
        "plt.ylabel('Drawdown (ft)')\n",
        "plt.ylim(0,0.7)\n",
        "plt.title('Okawville',fontsize=14)\n",
        "plt.show()"
      ],
      "execution_count": 20,
      "outputs": [
        {
          "output_type": "stream",
          "text": [
            "      dtw\n",
            "0    0.00\n",
            "1    0.02\n",
            "2    0.04\n",
            "3    0.07\n",
            "4    0.08\n",
            "5    0.10\n",
            "6    0.13\n",
            "7    0.16\n",
            "8    0.19\n",
            "9    0.22\n",
            "10   0.24\n",
            "12   0.27\n",
            "15   0.30\n",
            "20   0.37\n",
            "25   0.43\n",
            "30   0.46\n",
            "40   0.51\n",
            "50   0.56\n",
            "60   0.59\n",
            "70   0.61\n",
            "80   0.62\n",
            "90   0.63\n",
            "100  0.64\n",
            "120  0.65\n"
          ],
          "name": "stdout"
        },
        {
          "output_type": "display_data",
          "data": {
            "image/png": "[encoded data removed]",
            "text/plain": [
              "<Figure size 432x288 with 1 Axes>"
            ]
          },
          "metadata": {
            "tags": []
          }
        }
      ]
    },
    {
      "cell_type": "markdown",
      "metadata": {
        "id": "DXShxlt2fMHi",
        "colab_type": "text"
      },
      "source": [
        "## Part II: Theis Curve Fitting\n",
        "\n",
        "The Jacob Straight Line method is based on an approximation of the Theis solution. However, there is another option available when using Python, fitting the Theis solution directly to the data, with S and T as the unknown parameters. \n",
        "\n",
        "<b>Include:</b>\n",
        "<ul>\n",
        "    <li>A Markdown Cell with the Theis Equation written in LaTeX.</li>\n",
        "    <li>A plot with the time axis on a logarithmic scale.</li>\n",
        "    <li>Values for S and T, including appropriate units.</li>\n",
        "</ul>\n",
        "    \n",
        "<b>Tips:</b>    \n",
        "<ul>\n",
        "    <li>To get this code to work, you will need to use very small convergence criteria. Don't hesitate to work in the 10^-6-10^-12 range.</li>\n",
        "    <li>When fitting to the Theis Curve, you may use a subset of data. See the class lecture notes for inspiration on how to do this.</li>\n",
        "    <li>The answer should be similar to the Jacob Straight Line solution from class (although not exactly the same).</li>\n",
        "</ul>"
      ]
    },
    {
      "cell_type": "markdown",
      "metadata": {
        "id": "xrjS4apbMcRx",
        "colab_type": "text"
      },
      "source": [
        "Theis equation\n",
        "\n",
        "Non-equilibrium radial flow in a confined aquifer:\n",
        "\n",
        "<font size = 6>$s=\\frac{Q}{4\\pi T}W(u)$\n",
        "\n",
        "<font size = 6>$u=\\frac{r^2S}{4Tt}$\n",
        "\n",
        "where:\n",
        "\n",
        "$T$ = Transmissivity ($L^2/T$)\n",
        "\n",
        "$S$ = Storativity (unitless)\n",
        "\n",
        "$s$ = drawdown =$h_0 – h$ ($L$)\n",
        "\n",
        "$Q$ = Pumping rate ($L^3/T$)\n",
        "\n",
        "$r$ = radial distance of observation well ($L$)\n",
        "\n",
        "$t$ = elapsed time since pumping began or ended ($T$)\n",
        "\n",
        "$W(u)$ = well function\n"
      ]
    },
    {
      "cell_type": "code",
      "metadata": {
        "id": "3ecYH-jYOHFA",
        "colab_type": "code",
        "colab": {
          "base_uri": "https://localhost:8080/",
          "height": 451
        },
        "outputId": "c9101bc1-7327-445f-88fe-83e8941c7865"
      },
      "source": [
        "dd=df_dd['dtw'][5:-5]\n",
        "def theis_line(x,S,T):\n",
        "  r=30  #ft\n",
        "  Q=5.35  #ft^3/min\n",
        "  u=r**2*S/(4*T*x)\n",
        "  return Q/(4*np.pi*T)*sps.exp1(u)\n",
        "\n",
        "para, cova = spo.curve_fit(theis_line,dd.index, dd)\n",
        "\n",
        "xx=np.arange(1,151)\n",
        "yy=theis_line(xx,para[0],para[1])\n",
        "print(xx)\n",
        "plt.semilogx(dd,'o',xx,yy)\n",
        "plt.xlabel('Time (mins)')\n",
        "plt.ylabel('Drawdown (ft)')\n",
        "plt.show()\n",
        "print('The Theis curve fitting Method indicates that T is',round(para[1]*60*24,-1),'ft^2/day and S is',round(para[0],4),'.')"
      ],
      "execution_count": 55,
      "outputs": [
        {
          "output_type": "stream",
          "text": [
            "[  1   2   3   4   5   6   7   8   9  10  11  12  13  14  15  16  17  18\n",
            "  19  20  21  22  23  24  25  26  27  28  29  30  31  32  33  34  35  36\n",
            "  37  38  39  40  41  42  43  44  45  46  47  48  49  50  51  52  53  54\n",
            "  55  56  57  58  59  60  61  62  63  64  65  66  67  68  69  70  71  72\n",
            "  73  74  75  76  77  78  79  80  81  82  83  84  85  86  87  88  89  90\n",
            "  91  92  93  94  95  96  97  98  99 100 101 102 103 104 105 106 107 108\n",
            " 109 110 111 112 113 114 115 116 117 118 119 120 121 122 123 124 125 126\n",
            " 127 128 129 130 131 132 133 134 135 136 137 138 139 140 141 142 143 144\n",
            " 145 146 147 148 149 150]\n"
          ],
          "name": "stdout"
        },
        {
          "output_type": "display_data",
          "data": {
            "image/png": "[encoded data removed]",
            "text/plain": [
              "<Figure size 432x288 with 1 Axes>"
            ]
          },
          "metadata": {
            "tags": []
          }
        },
        {
          "output_type": "stream",
          "text": [
            "The Theis curve fitting Method indicates that T is 2570.0 ft^2/day and S is 0.0221 .\n"
          ],
          "name": "stdout"
        }
      ]
    },
    {
      "cell_type": "code",
      "metadata": {
        "id": "Clzel5DeL_2N",
        "colab_type": "code",
        "colab": {}
      },
      "source": [
        ""
      ],
      "execution_count": 0,
      "outputs": []
    },
    {
      "cell_type": "markdown",
      "metadata": {
        "id": "jzfne0U2fMHj",
        "colab_type": "text"
      },
      "source": [
        "## Part III: Contamination Analysis\n",
        "\n",
        "The village would like to know how long it would take for the contamination to reach a well at the new site pumping at a rate Q of 40.1 $ft^3/min$ (300 gpm). Assuming the initial pre-pumping water table configuration is a flat level surface, the groundwater flow gradient from the brine contamination zone towards the well will be a function of the drawdown created by the well. Calculate the drawdown at 1 ft intervals from the well to the edge of the brine zone (starting at r = 1' and ending at r = 5200').  Approximate the travel time by calculating the linear groundwater velocity (v) for each of the segments. Porosity is 20%.\n",
        "\n",
        "To calculate the drawdown ($s$ or $\\Delta(h_0-h)$) at the given radial distances from the well, use the Theis solution. For time (t) use 180 days (259200 mins), which is the typical length of the groundwater discharge season in Illinois. For this problem, ignore the effects of the different boundary conditions.\n",
        "\n",
        "<b>Include:</b>\n",
        "<ul>\n",
        "    <li>The travel time to 3 significant figures.</li>\n",
        "    <li>A plot with the primary axis showing drawdown and the secondary axis showing velocity.</li>\n",
        "</ul>\n",
        "\n",
        "Click on the following links to find two useful images that you <b>may</b> need for this analysis:\n",
        "\n",
        "[Well log for supply well 4](https://share.cocalc.com/share/84a5dae3-8e5c-4c85-bbd4-1d36447235d6/assignments/Prob%20Set%203/Okawville%20Well%20Log.png?viewer=share)\n",
        "\n",
        "[High-resolution map of this area showing the contamination plumes](https://cocalc.com/share/84a5dae3-8e5c-4c85-bbd4-1d36447235d6/assignments/Prob%20Set%203/BrineContaminationMap.png?viewer=share)\n",
        "\n",
        "<b>Answer from hand analysis:</b> travel time was ~35 years. Your response should be somewhere between 30-40 years."
      ]
    },
    {
      "cell_type": "markdown",
      "metadata": {
        "id": "8QrIQz1dfMHk",
        "colab_type": "text"
      },
      "source": [
        "## Part IV: Conclusions\n",
        "\n",
        "Would you recommend constructing a production well at the new site if the financing for the wells and the pipelines require a 40 year life cycle? Use the above analyses to justify your response. Be sure to comment on any uncertainty in your analysis. Limit this discussion to 1 paragraph."
      ]
    },
    {
      "cell_type": "code",
      "metadata": {
        "id": "i35BHRgQfMHl",
        "colab_type": "code",
        "colab": {}
      },
      "source": [
        ""
      ],
      "execution_count": 0,
      "outputs": []
    }
  ]
}