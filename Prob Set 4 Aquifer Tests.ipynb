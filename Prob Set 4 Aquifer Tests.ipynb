{
  "nbformat": 4,
  "nbformat_minor": 0,
  "metadata": {
    "kernelspec": {
      "display_name": "Python 3",
      "language": "python",
      "name": "python3"
    },
    "language_info": {
      "codemirror_mode": {
        "name": "ipython",
        "version": 3
      },
      "file_extension": ".py",
      "mimetype": "text/x-python",
      "name": "python",
      "nbconvert_exporter": "python",
      "pygments_lexer": "ipython3",
      "version": "3.7.4"
    },
    "colab": {
      "name": "Prob Set 4 Aquifer Tests.ipynb",
      "provenance": []
    }
  },
  "cells": [
    {
      "cell_type": "markdown",
      "metadata": {
        "id": "Fgmngv10fMHg",
        "colab_type": "text"
      },
      "source": [
        "# <center><font color = blue>Problem Set 4: Okawville Aquifer Test</font></center>\n",
        "\n",
        "<ul>\n",
        "    <li>Assignment Due February 27th</li>\n",
        "</ul>\n",
        "\n",
        "\n"
      ]
    },
    {
      "cell_type": "markdown",
      "metadata": {
        "id": "82yTnp3rfMHh",
        "colab_type": "text"
      },
      "source": [
        "In class, we conducted an aquifer test for the Village of Okawville. In this assignment, you will repeat this analysis, but instead of using Jacob Straight Line, you will fit the data from the aquifer test directly to the Theis Solution. \n",
        "\n",
        "<ul>\n",
        "    <li>All values reported should be rounded to three significant figures. There are ways to automate code to do this for you, but you may use the round() function with arguments hard-coded specifically for the output you are displaying.</li>\n",
        "    <li>All plots should include an appropriate title and labels on the x- and y- axes.</li>\n",
        "    <li>Observed data (what you import from Excel) should be plotted as points; best fit lines should be plotted as continuous lines.</li>\n",
        "</ul>\n",
        "\n",
        "## Part I: Write a code to plot the entire data set\n",
        "\n",
        "Both the x- and y-axis should be plotted on a linear scale (time on the x-axis, drawdown on the y-axis)."
      ]
    },
    {
      "cell_type": "code",
      "metadata": {
        "id": "fP9QruLD1Lsq",
        "colab_type": "code",
        "colab": {}
      },
      "source": [
        "import pandas as pd\n",
        "import matplotlib.pyplot as plt\n",
        "import numpy as np\n",
        "import scipy.optimize as spo\n",
        "import scipy.special as sps\n",
        "%matplotlib inline"
      ],
      "execution_count": 0,
      "outputs": []
    },
    {
      "cell_type": "code",
      "metadata": {
        "id": "z9aCbI5y1MWo",
        "colab_type": "code",
        "outputId": "fafccc68-8823-4eee-ba51-456c560bc925",
        "colab": {
          "base_uri": "https://localhost:8080/",
          "height": 716
        }
      },
      "source": [
        "df_dd = pd.read_excel('https://github.com/yiquanw2/geol572_4/blob/master/Okawville_MW_AquiferTest.xlsx?raw=true', index_col=0)\n",
        "print(df_dd)\n",
        "df_dd.dtw.plot(style='o')\n",
        "plt.xlabel('Time (mins)')\n",
        "plt.ylabel('Drawdown (ft)')\n",
        "plt.ylim(0,0.7)\n",
        "plt.title('Okawville',fontsize=14)\n",
        "plt.show()"
      ],
      "execution_count": 60,
      "outputs": [
        {
          "output_type": "stream",
          "text": [
            "      dtw\n",
            "0    0.00\n",
            "1    0.02\n",
            "2    0.04\n",
            "3    0.07\n",
            "4    0.08\n",
            "5    0.10\n",
            "6    0.13\n",
            "7    0.16\n",
            "8    0.19\n",
            "9    0.22\n",
            "10   0.24\n",
            "12   0.27\n",
            "15   0.30\n",
            "20   0.37\n",
            "25   0.43\n",
            "30   0.46\n",
            "40   0.51\n",
            "50   0.56\n",
            "60   0.59\n",
            "70   0.61\n",
            "80   0.62\n",
            "90   0.63\n",
            "100  0.64\n",
            "120  0.65\n"
          ],
          "name": "stdout"
        },
        {
          "output_type": "display_data",
          "data": {
            "image/png": "[encoded data removed]",
            "text/plain": [
              "<Figure size 432x288 with 1 Axes>"
            ]
          },
          "metadata": {
            "tags": []
          }
        }
      ]
    },
    {
      "cell_type": "markdown",
      "metadata": {
        "id": "DXShxlt2fMHi",
        "colab_type": "text"
      },
      "source": [
        "## Part II: Theis Curve Fitting\n",
        "\n",
        "The Jacob Straight Line method is based on an approximation of the Theis solution. However, there is another option available when using Python, fitting the Theis solution directly to the data, with S and T as the unknown parameters. \n",
        "\n",
        "<b>Include:</b>\n",
        "<ul>\n",
        "    <li>A Markdown Cell with the Theis Equation written in LaTeX.</li>\n",
        "    <li>A plot with the time axis on a logarithmic scale.</li>\n",
        "    <li>Values for S and T, including appropriate units.</li>\n",
        "</ul>\n",
        "    \n",
        "<b>Tips:</b>    \n",
        "<ul>\n",
        "    <li>To get this code to work, you will need to use very small convergence criteria. Don't hesitate to work in the 10^-6-10^-12 range.</li>\n",
        "    <li>When fitting to the Theis Curve, you may use a subset of data. See the class lecture notes for inspiration on how to do this.</li>\n",
        "    <li>The answer should be similar to the Jacob Straight Line solution from class (although not exactly the same).</li>\n",
        "</ul>"
      ]
    },
    {
      "cell_type": "markdown",
      "metadata": {
        "id": "xrjS4apbMcRx",
        "colab_type": "text"
      },
      "source": [
        "**<font size = 4>Theis equation**\n",
        "\n",
        "Non-equilibrium radial flow in a confined aquifer:\n",
        "\n",
        "<font size = 5>$s=\\frac{Q}{4\\pi T}W(u)$\n",
        "\n",
        "<font size = 5>$u=\\frac{r^2S}{4Tt}$\n",
        "\n",
        "where:\n",
        "\n",
        "$T$ = Transmissivity ($L^2/T$)\n",
        "\n",
        "$S$ = Storativity (unitless)\n",
        "\n",
        "$s$ = drawdown =$h_0 – h$ ($L$)\n",
        "\n",
        "$Q$ = Pumping rate ($L^3/T$)\n",
        "\n",
        "$r$ = radial distance of observation well ($L$)\n",
        "\n",
        "$t$ = elapsed time since pumping began or ended ($T$)\n",
        "\n",
        "$W(u)$ = well function\n"
      ]
    },
    {
      "cell_type": "code",
      "metadata": {
        "id": "3ecYH-jYOHFA",
        "colab_type": "code",
        "colab": {
          "base_uri": "https://localhost:8080/",
          "height": 300
        },
        "outputId": "f827eb36-17ef-4f11-b7ef-6c23b6c8c924"
      },
      "source": [
        "dd=df_dd['dtw'][5:-5]\n",
        "def theis_line(x,S,T):\n",
        "  r=30  #ft\n",
        "  Q=5.35  #ft^3/min\n",
        "  u=r**2*S/(4*T*x)\n",
        "  return Q/(4*np.pi*T)*sps.exp1(u)\n",
        "\n",
        "para, cova = spo.curve_fit(theis_line,dd.index, dd)\n",
        "\n",
        "xx=np.arange(1,151)\n",
        "S=para[0]\n",
        "T=para[1]\n",
        "yy=theis_line(xx,S,T)\n",
        "\n",
        "plt.semilogx(dd,'o',xx,yy)\n",
        "plt.xlabel('Time (mins)')\n",
        "plt.ylabel('Drawdown (ft)')\n",
        "plt.show()\n",
        "print('The Theis curve fitting Method indicates that T is',\\\n",
        "      round(T*60*24,-1),'ft^2/day and S is',round(S,4),'.')"
      ],
      "execution_count": 64,
      "outputs": [
        {
          "output_type": "display_data",
          "data": {
            "image/png": "[encoded data removed]",
            "text/plain": [
              "<Figure size 432x288 with 1 Axes>"
            ]
          },
          "metadata": {
            "tags": []
          }
        },
        {
          "output_type": "stream",
          "text": [
            "The Theis curve fitting Method indicates that T is 2570.0 ft^2/day and S is 0.0221 .\n"
          ],
          "name": "stdout"
        }
      ]
    },
    {
      "cell_type": "markdown",
      "metadata": {
        "id": "jzfne0U2fMHj",
        "colab_type": "text"
      },
      "source": [
        "## Part III: Contamination Analysis\n",
        "\n",
        "The village would like to know how long it would take for the contamination to reach a well at the new site pumping at a rate Q of 40.1 $ft^3/min$ (300 gpm). Assuming the initial pre-pumping water table configuration is a flat level surface, the groundwater flow gradient from the brine contamination zone towards the well will be a function of the drawdown created by the well. Calculate the drawdown at 1 ft intervals from the well to the edge of the brine zone (starting at r = 1' and ending at r = 5200').  Approximate the travel time by calculating the linear groundwater velocity (v) for each of the segments. Porosity is 20%.\n",
        "\n",
        "To calculate the drawdown ($s$ or $\\Delta(h_0-h)$) at the given radial distances from the well, use the Theis solution. For time (t) use 180 days (259200 mins), which is the typical length of the groundwater discharge season in Illinois. For this problem, ignore the effects of the different boundary conditions.\n",
        "\n",
        "<b>Include:</b>\n",
        "<ul>\n",
        "    <li>The travel time to 3 significant figures.</li>\n",
        "    <li>A plot with the primary axis showing drawdown and the secondary axis showing velocity.</li>\n",
        "</ul>\n",
        "\n",
        "Click on the following links to find two useful images that you <b>may</b> need for this analysis:\n",
        "\n",
        "[Well log for supply well 4](https://share.cocalc.com/share/84a5dae3-8e5c-4c85-bbd4-1d36447235d6/assignments/Prob%20Set%203/Okawville%20Well%20Log.png?viewer=share)\n",
        "\n",
        "[High-resolution map of this area showing the contamination plumes](https://cocalc.com/share/84a5dae3-8e5c-4c85-bbd4-1d36447235d6/assignments/Prob%20Set%203/BrineContaminationMap.png?viewer=share)\n",
        "\n",
        "<b>Answer from hand analysis:</b> travel time was ~35 years. Your response should be somewhere between 30-40 years."
      ]
    },
    {
      "cell_type": "code",
      "metadata": {
        "id": "kgJ526P2o5PX",
        "colab_type": "code",
        "colab": {
          "base_uri": "https://localhost:8080/",
          "height": 296
        },
        "outputId": "ffe5d329-4a1a-4565-9b56-a90dc093f702"
      },
      "source": [
        "def drawdown(r):\n",
        "  Q=40.1  #ft^3/min\n",
        "  t=259200 #mins\n",
        "  u=r**2*S/(4*T*259200)\n",
        "  return Q/(4*np.pi*T)*sps.exp1(u)\n",
        "r=np.arange(1,5201)\n",
        "s=drawdown(r)\n",
        "plt.plot(r,s)\n",
        "plt.xlabel('Distance from the well (ft)')\n",
        "plt.ylabel('Drawdown (ft)')\n",
        "plt.show()"
      ],
      "execution_count": 63,
      "outputs": [
        {
          "output_type": "display_data",
          "data": {
            "image/png": "[encoded data removed]",
            "text/plain": [
              "<Figure size 432x288 with 1 Axes>"
            ]
          },
          "metadata": {
            "tags": []
          }
        },
        {
          "output_type": "stream",
          "text": [
            "5200\n"
          ],
          "name": "stdout"
        }
      ]
    },
    {
      "cell_type": "code",
      "metadata": {
        "id": "8COcJYY9rhPR",
        "colab_type": "code",
        "colab": {
          "base_uri": "https://localhost:8080/",
          "height": 50
        },
        "outputId": "0402d272-2a66-4ab7-94de-5246e5e0ca76"
      },
      "source": [
        "b=45.5 #thickness:ft\n",
        "K=T*60*24/b #hydraulic conductivity: ft/day\n",
        "q=K*s #specific discharge: ft/day\n"
      ],
      "execution_count": 67,
      "outputs": [
        {
          "output_type": "stream",
          "text": [
            "[1784.23960192 1644.23540668 1562.33820644 ...   86.16584511   86.13769705\n",
            "   86.10955789]\n"
          ],
          "name": "stdout"
        }
      ]
    },
    {
      "cell_type": "markdown",
      "metadata": {
        "id": "8QrIQz1dfMHk",
        "colab_type": "text"
      },
      "source": [
        "## Part IV: Conclusions\n",
        "\n",
        "Would you recommend constructing a production well at the new site if the financing for the wells and the pipelines require a 40 year life cycle? Use the above analyses to justify your response. Be sure to comment on any uncertainty in your analysis. Limit this discussion to 1 paragraph."
      ]
    },
    {
      "cell_type": "code",
      "metadata": {
        "id": "i35BHRgQfMHl",
        "colab_type": "code",
        "colab": {}
      },
      "source": [
        ""
      ],
      "execution_count": 0,
      "outputs": []
    }
  ]
}