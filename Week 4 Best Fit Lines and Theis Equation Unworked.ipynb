{
  "nbformat": 4,
  "nbformat_minor": 0,
  "metadata": {
    "kernelspec": {
      "display_name": "Python 3",
      "language": "python",
      "name": "python3"
    },
    "language_info": {
      "codemirror_mode": {
        "name": "ipython",
        "version": 3
      },
      "file_extension": ".py",
      "mimetype": "text/x-python",
      "name": "python",
      "nbconvert_exporter": "python",
      "pygments_lexer": "ipython3",
      "version": "3.7.4"
    },
    "colab": {
      "name": "Week 4 Best Fit Lines and Theis Equation.ipynb",
      "provenance": []
    }
  },
  "cells": [
    {
      "cell_type": "markdown",
      "metadata": {
        "id": "TPwxGZa69OwS",
        "colab_type": "text"
      },
      "source": [
        "# Week 4: Best Fit Lines and the Theis Solution"
      ]
    },
    {
      "cell_type": "markdown",
      "metadata": {
        "id": "7nfXoyUQ9OwU",
        "colab_type": "text"
      },
      "source": [
        "Today let's take a look at withdrawals from an industry in the East St. Louis area. These withdrawals include both groundwater and surface water. First, let's examine how pumpage has changed in the past few decades (1980 onward). Then, let's investigate if there are trends that we can use to extrapolate expected water demands (usage) out to 2050 for this region.\n",
        "\n",
        "After working with pumpage, let's take a quick look at the Theis Solution and how to code this up. You will be using this in Homework 4. "
      ]
    },
    {
      "cell_type": "markdown",
      "metadata": {
        "id": "dcUBouCT9OwV",
        "colab_type": "text"
      },
      "source": [
        "## Import Packages/Libraries"
      ]
    },
    {
      "cell_type": "code",
      "metadata": {
        "id": "dYUdsHzp9OwW",
        "colab_type": "code",
        "colab": {}
      },
      "source": [
        "# import packages\n",
        "import pandas as pd\n",
        "import matplotlib.pyplot as plt\n",
        "import scipy.optimize as spo\n",
        "import scipy.special as sps\n",
        "import math\n",
        "\n",
        "%matplotlib inline"
      ],
      "execution_count": 0,
      "outputs": []
    },
    {
      "cell_type": "markdown",
      "metadata": {
        "id": "6G5nfoTe9Owa",
        "colab_type": "text"
      },
      "source": [
        "## Import Demands for an industry in Madison County\n",
        "\n",
        "<ul>\n",
        "    <li>Surface Water (sw)</li>\n",
        "    <li>Groundwater (gw)</li>\n",
        "</ul>"
      ]
    },
    {
      "cell_type": "code",
      "metadata": {
        "id": "uBGQtc679Owa",
        "colab_type": "code",
        "colab": {
          "base_uri": "https://localhost:8080/",
          "height": 655
        },
        "outputId": "e0f2213c-dcb0-4c33-85c7-a8ab9cc19711"
      },
      "source": [
        "gc_df = pd.read_excel(\"https://github.com/dbabrams/G572Week4_-AquiferTests/blob/master/industry.xlsx?raw=true\",index_col=0)\n",
        "print(gc_df)"
      ],
      "execution_count": 2,
      "outputs": [
        {
          "output_type": "stream",
          "text": [
            "             gw         sw\n",
            "year                      \n",
            "1979   6.842298  18.980151\n",
            "1980   3.647433  21.507734\n",
            "1981   4.591923  16.563450\n",
            "1982   6.881588  15.475154\n",
            "1983   7.186311   9.884463\n",
            "1984  11.709788   9.571526\n",
            "1985   6.611910   9.497604\n",
            "1986   9.368925   9.497604\n",
            "1987   9.368925  14.902669\n",
            "1988   7.006434  17.785079\n",
            "1989   7.476523  18.413689\n",
            "1990   7.286516  19.837372\n",
            "1991   3.028063        NaN\n",
            "1995   4.996578        NaN\n",
            "1996   5.830108  18.891170\n",
            "1997   5.677755  16.692676\n",
            "1998   5.552361  15.225188\n",
            "1999   5.453799  11.258042\n",
            "2000   4.720055  14.827105\n",
            "2001   4.020808  12.527858\n",
            "2002   4.208077  12.168652\n",
            "2003   3.730322  12.284736\n",
            "2004   1.578645   9.817933\n",
            "2005   1.562218  11.490760\n",
            "2006   1.667551  11.285421\n",
            "2007   1.627652   6.811773\n",
            "2008   2.761780   4.919918\n",
            "2009   4.040977   8.183436\n",
            "2010   7.876747   7.570157\n",
            "2011   8.025975   6.699521\n",
            "2012   8.859953   7.433265\n",
            "2013  11.728783   9.107461\n",
            "2014   7.769610   8.038330\n",
            "2015   3.293415   8.691855\n",
            "2016   0.527310  10.433402\n",
            "2017   2.460780        NaN\n"
          ],
          "name": "stdout"
        }
      ]
    },
    {
      "cell_type": "markdown",
      "metadata": {
        "id": "aQcsmlKF9Owe",
        "colab_type": "text"
      },
      "source": [
        "## Plot industrial demands"
      ]
    },
    {
      "cell_type": "code",
      "metadata": {
        "id": "T7GiWvtd9Owf",
        "colab_type": "code",
        "colab": {
          "base_uri": "https://localhost:8080/",
          "height": 279
        },
        "outputId": "18ccd8fb-60e9-4e6e-cc66-49be7af67175"
      },
      "source": [
        "gc_df.plot(style='o')\n",
        "plt.ylabel('Mgd')\n",
        "plt.show()"
      ],
      "execution_count": 3,
      "outputs": [
        {
          "output_type": "display_data",
          "data": {
            "image/png": "[encoded data removed]",
            "text/plain": [
              "<Figure size 432x288 with 1 Axes>"
            ]
          },
          "metadata": {
            "tags": []
          }
        }
      ]
    },
    {
      "cell_type": "markdown",
      "metadata": {
        "id": "WNqAPYci9Owi",
        "colab_type": "text"
      },
      "source": [
        "## Define a linear function to create a best fit line"
      ]
    },
    {
      "cell_type": "markdown",
      "metadata": {
        "id": "jmThyrVh9Owj",
        "colab_type": "text"
      },
      "source": [
        "When defining a function, always use the following syntax:\n",
        "\n",
        "`def functionname(argument1,argument2,.....):`</br>\n",
        "&nbsp;&nbsp;&nbsp;&nbsp;&nbsp;&nbsp; `write code here`</br>\n",
        "&nbsp;&nbsp;&nbsp;&nbsp;&nbsp;&nbsp; `return output1, output2,.....`\n",
        "\n",
        "To call the function, write\n",
        "\n",
        "`output1, output2 = functionname(argument1,argument2)`"
      ]
    },
    {
      "cell_type": "code",
      "metadata": {
        "colab_type": "code",
        "outputId": "d874d0f5-6b39-461d-edc4-b968b927f083",
        "id": "J8sACqcJR8bs",
        "colab": {
          "base_uri": "https://localhost:8080/",
          "height": 50
        }
      },
      "source": [
        "# define a function that defines our line (with variable time, slope m, and y-intercept b,)\n",
        "def linear(time,m,b):\n",
        "    return m*time+b\n",
        "#**homework: ties curve\n",
        "# code that returns the parameters m & b\n",
        "# run curve_fit function() with the first argument being the curve that we are fitting.\n",
        "# Second argument is the x-data(time data in our case), third argument is the pumping data\n",
        "# fourth argument is the initial guess for the parameters\n",
        "# return para (parameters m and b) and cova(covariance)\n",
        "para, cova = spo.curve_fit(linear,gc_df.index,gc_df.gw,p0=[0.0000001,0.0000001])\n",
        "# More info: https://docs.scipy.org/doc/scipy/reference/generated/scipy.optimize.curve_fit.html\n",
        "print(para,cova)\n",
        "# print(cova)"
      ],
      "execution_count": 0,
      "outputs": [
        {
          "output_type": "stream",
          "text": [
            "[-7.63454373e-02  1.58097158e+02] [[ 1.52594727e-03 -3.04947847e+00]\n",
            " [-3.04947847e+00  6.09433449e+03]]\n"
          ],
          "name": "stdout"
        }
      ]
    },
    {
      "cell_type": "code",
      "metadata": {
        "id": "bximBmDMSICj",
        "colab_type": "code",
        "colab": {
          "base_uri": "https://localhost:8080/",
          "height": 655
        },
        "outputId": "6c0c0771-0d1e-4270-e545-8fc84fed71ba"
      },
      "source": [
        "slope=para[0]\n",
        "yint=para[1]\n",
        "year=gc_df.index.to_series()\n",
        "print(year)"
      ],
      "execution_count": 30,
      "outputs": [
        {
          "output_type": "stream",
          "text": [
            "year\n",
            "1979    1979\n",
            "1980    1980\n",
            "1981    1981\n",
            "1982    1982\n",
            "1983    1983\n",
            "1984    1984\n",
            "1985    1985\n",
            "1986    1986\n",
            "1987    1987\n",
            "1988    1988\n",
            "1989    1989\n",
            "1990    1990\n",
            "1991    1991\n",
            "1995    1995\n",
            "1996    1996\n",
            "1997    1997\n",
            "1998    1998\n",
            "1999    1999\n",
            "2000    2000\n",
            "2001    2001\n",
            "2002    2002\n",
            "2003    2003\n",
            "2004    2004\n",
            "2005    2005\n",
            "2006    2006\n",
            "2007    2007\n",
            "2008    2008\n",
            "2009    2009\n",
            "2010    2010\n",
            "2011    2011\n",
            "2012    2012\n",
            "2013    2013\n",
            "2014    2014\n",
            "2015    2015\n",
            "2016    2016\n",
            "2017    2017\n",
            "Name: year, dtype: int64\n"
          ],
          "name": "stdout"
        }
      ]
    },
    {
      "cell_type": "code",
      "metadata": {
        "id": "gFLjc3ORSdtn",
        "colab_type": "code",
        "colab": {
          "base_uri": "https://localhost:8080/",
          "height": 689
        },
        "outputId": "4c00f6f0-330d-4f20-bcac-040982d1fd20"
      },
      "source": [
        "fitline=linear(year,slope,yint)\n",
        "print(fitline)\n",
        "print(type(gc_df.index))\n",
        "print(type(year))"
      ],
      "execution_count": 20,
      "outputs": [
        {
          "output_type": "stream",
          "text": [
            "year\n",
            "1979    7.009538\n",
            "1980    6.933192\n",
            "1981    6.856847\n",
            "1982    6.780501\n",
            "1983    6.704156\n",
            "1984    6.627811\n",
            "1985    6.551465\n",
            "1986    6.475120\n",
            "1987    6.398774\n",
            "1988    6.322429\n",
            "1989    6.246083\n",
            "1990    6.169738\n",
            "1991    6.093392\n",
            "1995    5.788011\n",
            "1996    5.711665\n",
            "1997    5.635320\n",
            "1998    5.558974\n",
            "1999    5.482629\n",
            "2000    5.406284\n",
            "2001    5.329938\n",
            "2002    5.253593\n",
            "2003    5.177247\n",
            "2004    5.100902\n",
            "2005    5.024556\n",
            "2006    4.948211\n",
            "2007    4.871865\n",
            "2008    4.795520\n",
            "2009    4.719175\n",
            "2010    4.642829\n",
            "2011    4.566484\n",
            "2012    4.490138\n",
            "2013    4.413793\n",
            "2014    4.337447\n",
            "2015    4.261102\n",
            "2016    4.184757\n",
            "2017    4.108411\n",
            "Name: year, dtype: float64\n",
            "<class 'pandas.core.indexes.numeric.Int64Index'>\n",
            "<class 'pandas.core.series.Series'>\n"
          ],
          "name": "stdout"
        }
      ]
    },
    {
      "cell_type": "code",
      "metadata": {
        "id": "AOFyBb3XUEHX",
        "colab_type": "code",
        "colab": {
          "base_uri": "https://localhost:8080/",
          "height": 279
        },
        "outputId": "f5c4468d-671f-4797-b511-7ab866c4cb06"
      },
      "source": [
        "plt.plot(gc_df.gw,'o')\n",
        "fitline.plot()\n",
        "plt.show()"
      ],
      "execution_count": 33,
      "outputs": [
        {
          "output_type": "display_data",
          "data": {
            "image/png": "[encoded data removed]",
            "text/plain": [
              "<Figure size 432x288 with 1 Axes>"
            ]
          },
          "metadata": {
            "tags": []
          }
        }
      ]
    },
    {
      "cell_type": "markdown",
      "metadata": {
        "id": "gzzsfBIy9Owm",
        "colab_type": "text"
      },
      "source": [
        "## Linear trend to 2050?"
      ]
    },
    {
      "cell_type": "code",
      "metadata": {
        "id": "eMAE0iz_9Own",
        "colab_type": "code",
        "colab": {
          "base_uri": "https://localhost:8080/",
          "height": 34
        },
        "outputId": "0d456dea-4893-40c2-8dd9-5a674908e583"
      },
      "source": [
        "print(round(linear(2050,slope,yint),1))"
      ],
      "execution_count": 35,
      "outputs": [
        {
          "output_type": "stream",
          "text": [
            "1.6\n"
          ],
          "name": "stdout"
        }
      ]
    },
    {
      "cell_type": "markdown",
      "metadata": {
        "id": "T7DVTwfC9Owp",
        "colab_type": "text"
      },
      "source": [
        "### Theis solution\n",
        "\n",
        "Recall that the Theis solution is:\n",
        "\n",
        "<font size = 10>$s=\\frac{Q}{4\\pi T} W(\\frac{r^2S}{4Tt})$</font>\n",
        "\n",
        "where s is drawdown, Q is pumpage, T is transmissivity, r is distance from well, S is storage, and t is time the well has been on. The well function has many names, with the most formal mathematical name being the `exponential integral`. For the mathematicians out there, [here is more context on the exponential integral.](http://mathworld.wolfram.com/ExponentialIntegral.html). For our purposes, we don't have to work with the exponential integral any differently than we do a natural logarithm or sinusoidal function. We just have to know where it is located. It turns out it is in the SciPy library as a [special function](https://docs.scipy.org/doc/scipy/reference/special.html).\n",
        "\n",
        "Let's do an example problem related to the NE Illinois sandstone. Assume that we want to know how much drawdown a new well might have on a nearby well (500 ft away) after running continuously for 1 day? 1 week? 1 year? Assume the well pumps 133,000 $ft^3/day$, transmissivity is 1200 $ft^2/day$, $S_s$ is 2.6E-7 $\\frac{1}{ft}$, and aquifer thickness is 400 $ft$."
      ]
    },
    {
      "cell_type": "code",
      "metadata": {
        "id": "NZLS28679Owq",
        "colab_type": "code",
        "colab": {
          "base_uri": "https://localhost:8080/",
          "height": 483
        },
        "outputId": "962c9dc9-ff57-4c1d-9425-8aa926a5fe19"
      },
      "source": [
        "Q =133000 #ft^3/day\n",
        "T = 1200 #ft^3/day\n",
        "S_s = 2.6*10** -7 # 1/ft\n",
        "b=400 #ft\n",
        "S=S_s*b\n",
        "r =500 #ft\n",
        "t=pd.Series(range(0,366))\n",
        "u=(r**2 *S)/(4*T*t)\n",
        "s= Q/(4*math.pi*T)*sps.exp1(u)\n",
        "print(s)\n",
        "s.plot()"
      ],
      "execution_count": 37,
      "outputs": [
        {
          "output_type": "stream",
          "text": [
            "0       0.000000\n",
            "1      40.981091\n",
            "2      47.070697\n",
            "3      50.638879\n",
            "4      53.172210\n",
            "         ...    \n",
            "361    92.872454\n",
            "362    92.896851\n",
            "363    92.921182\n",
            "364    92.945445\n",
            "365    92.969642\n",
            "Length: 366, dtype: float64\n"
          ],
          "name": "stdout"
        },
        {
          "output_type": "execute_result",
          "data": {
            "text/plain": [
              "<matplotlib.axes._subplots.AxesSubplot at 0x7f2df81899e8>"
            ]
          },
          "metadata": {
            "tags": []
          },
          "execution_count": 37
        },
        {
          "output_type": "display_data",
          "data": {
            "image/png": "[encoded data removed]",
            "text/plain": [
              "<Figure size 432x288 with 1 Axes>"
            ]
          },
          "metadata": {
            "tags": []
          }
        }
      ]
    },
    {
      "cell_type": "code",
      "metadata": {
        "id": "dfU2vCQn9Owt",
        "colab_type": "code",
        "colab": {}
      },
      "source": [
        ""
      ],
      "execution_count": 0,
      "outputs": []
    }
  ]
}