{
  "nbformat": 4,
  "nbformat_minor": 0,
  "metadata": {
    "kernelspec": {
      "display_name": "Python 3",
      "language": "python",
      "name": "python3"
    },
    "language_info": {
      "codemirror_mode": {
        "name": "ipython",
        "version": 3
      },
      "file_extension": ".py",
      "mimetype": "text/x-python",
      "name": "python",
      "nbconvert_exporter": "python",
      "pygments_lexer": "ipython3",
      "version": "3.7.4"
    },
    "colab": {
      "name": "Week 4 Best Fit Lines and Theis Equation.ipynb",
      "provenance": []
    }
  },
  "cells": [
    {
      "cell_type": "markdown",
      "metadata": {
        "id": "YvzHpPhhPNt6",
        "colab_type": "text"
      },
      "source": [
        "# Week 4: Best Fit Lines and the Theis Solution"
      ]
    },
    {
      "cell_type": "markdown",
      "metadata": {
        "id": "82wieCoKPNuD",
        "colab_type": "text"
      },
      "source": [
        "Today let's take a look at withdrawals from an industry in the East St. Louis area. These withdrawals include both groundwater and surface water.\n",
        "\n",
        "We have already discussed that the area has experienced drastic reductions in groundwater withdrawals compared to the 1950's, but how has this changed in the past few decades (1980 onward)?\n",
        "\n",
        "Furthermore, are there any trends that we can use to extrapolate expected water demands (usage) out to 2050 for this region?"
      ]
    },
    {
      "cell_type": "markdown",
      "metadata": {
        "id": "EdrMCHNCPNuH",
        "colab_type": "text"
      },
      "source": [
        "## Import Packages/Libraries"
      ]
    },
    {
      "cell_type": "code",
      "metadata": {
        "id": "3xp_ans7PNuK",
        "colab_type": "code",
        "colab": {}
      },
      "source": [
        "# import packages\n",
        "import pandas as pd\n",
        "import matplotlib.pyplot as plt\n",
        "import scipy.optimize as spo\n",
        "import scipy.special as sps\n",
        "import math\n",
        "\n",
        "%matplotlib inline"
      ],
      "execution_count": 0,
      "outputs": []
    },
    {
      "cell_type": "markdown",
      "metadata": {
        "id": "Cn8kadEbPNuW",
        "colab_type": "text"
      },
      "source": [
        "## Import Demands for an industry in Madison County\n",
        "\n",
        "<ul>\n",
        "    <li>Surface Water (sw)</li>\n",
        "    <li>Groundwater (gw)</li>\n",
        "</ul>"
      ]
    },
    {
      "cell_type": "code",
      "metadata": {
        "id": "u4rUCYQGPNuY",
        "colab_type": "code",
        "outputId": "f7f07c0e-6b53-4ff6-cd33-ccbf055d51c1",
        "colab": {
          "base_uri": "https://localhost:8080/",
          "height": 686
        }
      },
      "source": [
        "gc_df = pd.read_excel(\"https://github.com/dbabrams/G572Week4_-AquiferTests/blob/master/industry.xlsx?raw=true\",index_col=0)\n",
        "print(gc_df)"
      ],
      "execution_count": 17,
      "outputs": [
        {
          "output_type": "stream",
          "text": [
            "             gw         sw\n",
            "year                      \n",
            "1979   6.842298  18.980151\n",
            "1980   3.647433  21.507734\n",
            "1981   4.591923  16.563450\n",
            "1982   6.881588  15.475154\n",
            "1983   7.186311   9.884463\n",
            "1984  11.709788   9.571526\n",
            "1985   6.611910   9.497604\n",
            "1986   9.368925   9.497604\n",
            "1987   9.368925  14.902669\n",
            "1988   7.006434  17.785079\n",
            "1989   7.476523  18.413689\n",
            "1990   7.286516  19.837372\n",
            "1991   3.028063        NaN\n",
            "1995   4.996578        NaN\n",
            "1996   5.830108  18.891170\n",
            "1997   5.677755  16.692676\n",
            "1998   5.552361  15.225188\n",
            "1999   5.453799  11.258042\n",
            "2000   4.720055  14.827105\n",
            "2001   4.020808  12.527858\n",
            "2002   4.208077  12.168652\n",
            "2003   3.730322  12.284736\n",
            "2004   1.578645   9.817933\n",
            "2005   1.562218  11.490760\n",
            "2006   1.667551  11.285421\n",
            "2007   1.627652   6.811773\n",
            "2008   2.761780   4.919918\n",
            "2009   4.040977   8.183436\n",
            "2010   7.876747   7.570157\n",
            "2011   8.025975   6.699521\n",
            "2012   8.859953   7.433265\n",
            "2013  11.728783   9.107461\n",
            "2014   7.769610   8.038330\n",
            "2015   3.293415   8.691855\n",
            "2016   0.527310  10.433402\n",
            "2017   2.460780        NaN\n"
          ],
          "name": "stdout"
        }
      ]
    },
    {
      "cell_type": "markdown",
      "metadata": {
        "id": "Bah8B7_pPNug",
        "colab_type": "text"
      },
      "source": [
        "## Plot industrial demands"
      ]
    },
    {
      "cell_type": "code",
      "metadata": {
        "id": "wn2L4EG-PNui",
        "colab_type": "code",
        "colab": {
          "base_uri": "https://localhost:8080/",
          "height": 279
        },
        "outputId": "905b62a1-07c2-4be8-9b1f-d66034546e29"
      },
      "source": [
        "gc_df.plot(style='o')\n",
        "plt.ylabel('Mgd')\n",
        "plt.show()"
      ],
      "execution_count": 18,
      "outputs": [
        {
          "output_type": "display_data",
          "data": {
            "image/png": "[encoded data removed]",
            "text/plain": [
              "<Figure size 432x288 with 1 Axes>"
            ]
          },
          "metadata": {
            "tags": []
          }
        }
      ]
    },
    {
      "cell_type": "markdown",
      "metadata": {
        "id": "we2W0m52PNun",
        "colab_type": "text"
      },
      "source": [
        "## Define a linear function to create a best fit line"
      ]
    },
    {
      "cell_type": "markdown",
      "metadata": {
        "id": "H68qumkYPNup",
        "colab_type": "text"
      },
      "source": [
        "When defining a function, always use the following syntax:\n",
        "\n",
        "`def functionname(argument1,argument2,.....):`</br>\n",
        "&nbsp;&nbsp;&nbsp;&nbsp;&nbsp;&nbsp; `write code here`</br>\n",
        "&nbsp;&nbsp;&nbsp;&nbsp;&nbsp;&nbsp; `return output1, output2,.....`\n",
        "\n",
        "To call the function, write\n",
        "\n",
        "`output1, output2 = functionname(argument1,argument2)`"
      ]
    },
    {
      "cell_type": "code",
      "metadata": {
        "id": "EaZ3fNKUPNuq",
        "colab_type": "code",
        "colab": {
          "base_uri": "https://localhost:8080/",
          "height": 332
        },
        "outputId": "4164fe65-4026-4259-f80d-863015db9d01"
      },
      "source": [
        "# define a function that defines our line\n",
        "def linear(time,m,b):\n",
        "    return m*time+b\n",
        "\n",
        "# code that returns the parameters m & b\n",
        "para, cova = spo.curve_fit(linear,gc_df.index,gc_df.gw,p0=[0.0000001,0.0000001])\n",
        "print(para)\n",
        "slope = para[0]\n",
        "yint = para[1]\n",
        "\n",
        "year = gc_df.index.to_series()\n",
        "fitline = linear(year,slope,yint)\n",
        "print(type(fitline))\n",
        "\n",
        "gc_df.gw.plot(style='o')\n",
        "fitline.plot()"
      ],
      "execution_count": 19,
      "outputs": [
        {
          "output_type": "stream",
          "text": [
            "[-7.63454373e-02  1.58097158e+02]\n",
            "<class 'pandas.core.series.Series'>\n"
          ],
          "name": "stdout"
        },
        {
          "output_type": "execute_result",
          "data": {
            "text/plain": [
              "<matplotlib.axes._subplots.AxesSubplot at 0x7fbf7b45dc88>"
            ]
          },
          "metadata": {
            "tags": []
          },
          "execution_count": 19
        },
        {
          "output_type": "display_data",
          "data": {
            "image/png": "[encoded data removed]",
            "text/plain": [
              "<Figure size 432x288 with 1 Axes>"
            ]
          },
          "metadata": {
            "tags": []
          }
        }
      ]
    },
    {
      "cell_type": "markdown",
      "metadata": {
        "id": "jISQtHowPNuv",
        "colab_type": "text"
      },
      "source": [
        "## Linear trend to 2050?"
      ]
    },
    {
      "cell_type": "code",
      "metadata": {
        "id": "3FKcpdeyPNuw",
        "colab_type": "code",
        "colab": {}
      },
      "source": [
        "linear(2050,slope,yint)"
      ],
      "execution_count": 0,
      "outputs": []
    },
    {
      "cell_type": "markdown",
      "metadata": {
        "id": "UiuGxwIqPNuz",
        "colab_type": "text"
      },
      "source": [
        "### Theis solution\n",
        "\n",
        "Recall that the Theis solution is:\n",
        "\n",
        "<font size = 10>$s=\\frac{Q}{4\\pi T} W(\\frac{r^2S}{4Tt})$</font>\n",
        "\n",
        "where s is drawdown, Q is pumpage, T is transmissivity, r is distance from well, S is storage, and t is time the well has been on. The well function has many names, with the most formal mathematical name being the `exponential integral`. For the mathematicians out there, [here is more context on the exponential integral.](http://mathworld.wolfram.com/ExponentialIntegral.html). For our purposes, we don't have to work with the exponential integral any differently than we do a natural logarithm or sinusoidal function. We just have to know where it is located. It turns out it is in the SciPy library as a [special function](https://docs.scipy.org/doc/scipy/reference/special.html).\n",
        "\n",
        "Let's do an example problem related to the NE Illinois sandstone. Assume that we want to know how much drawdown a new well might have on a nearby well (500 ft away) after running continuously for 1 day? 1 week? 1 year? Assume the well pumps 133,000 $ft^3/day$, transmissivity is 1200 $ft^2/day$, $S_s$ is 2.6E-7 $\\frac{1}{ft}$, and aquifer thickness is 400 $ft$."
      ]
    },
    {
      "cell_type": "code",
      "metadata": {
        "id": "w4wWirquPNu0",
        "colab_type": "code",
        "colab": {}
      },
      "source": [
        "Q = -133000 #ft^3/d\n",
        "T = 1200 #ft^2/d\n",
        "S_s = 2.6*10**-7 #1/ft\n",
        "b = 400 #ft\n",
        "S = b*S_s\n",
        "r = 5000 #ft\n",
        "\n",
        "t = pd.Series(range(0,366))\n",
        "u = r**2*S/(4*T*t)\n",
        "\n",
        "s = Q/(4*math.pi*T)*sps.exp1(u)\n",
        "\n",
        "s.plot()\n",
        "plt.title('Theis Solution')\n",
        "plt.xlabel('Days')\n",
        "plt.ylabel('Drawdown (ft)')\n",
        "plt.show()"
      ],
      "execution_count": 0,
      "outputs": []
    },
    {
      "cell_type": "code",
      "metadata": {
        "id": "xIXOzjFQPNu3",
        "colab_type": "code",
        "colab": {}
      },
      "source": [
        ""
      ],
      "execution_count": 0,
      "outputs": []
    }
  ]
}